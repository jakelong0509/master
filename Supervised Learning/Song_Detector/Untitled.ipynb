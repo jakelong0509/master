{
 "cells": [
  {
   "cell_type": "code",
   "execution_count": 1,
   "metadata": {},
   "outputs": [
    {
     "name": "stderr",
     "output_type": "stream",
     "text": [
      "Using TensorFlow backend.\n"
     ]
    }
   ],
   "source": [
    "import numpy as np\n",
    "from pydub import AudioSegment\n",
    "from scipy.io import wavfile\n",
    "import random\n",
    "import sys\n",
    "import io\n",
    "import os\n",
    "import glob\n",
    "import IPython\n",
    "from song_preprocessing import *\n",
    "\n",
    "from keras.layers import Bidirectional, Concatenate, Permute, Dot, Input, LSTM, Multiply\n",
    "from keras.layers import RepeatVector, Dense, Activation, Lambda\n",
    "from keras.optimizers import Adam\n",
    "from keras.utils import to_categorical\n",
    "from keras.models import load_model, Model\n",
    "import keras.backend as K\n",
    "import tensorflow as tf\n"
   ]
  },
  {
   "cell_type": "code",
   "execution_count": 2,
   "metadata": {},
   "outputs": [],
   "source": [
    "def one_step_attention(a, s_prev):\n",
    "    # shape of a = (None,S,256)\n",
    "    s_prev = repeator(s_prev) # (None,S,256)\n",
    "    concat = concatenator([a, s_prev]) # (None,S,512)\n",
    "    e = densor1(concat) # (None,S,10)\n",
    "    energies = densor2(e) # (None,S,1)\n",
    "    alphas = activator(energies) # (None,S,1)\n",
    "    context = dotor([alphas, a]) # (None,1,1)\n",
    "    return context\n",
    "\n"
   ]
  },
  {
   "cell_type": "code",
   "execution_count": 3,
   "metadata": {},
   "outputs": [],
   "source": [
    "def model(Tx, Ty, n_a, n_s, n_x, n_y):\n",
    "    X = Input(shape=(Tx, n_x))\n",
    "    s0 = Input(shape=(n_s,), name = 's0')\n",
    "    c0 = Input(shape=(n_s,), name = 'c0')\n",
    "    s = s0\n",
    "    c = c0\n",
    "\n",
    "    outputs = []\n",
    "\n",
    "    a = Bidirectional(LSTM(n_a, return_sequences = True))(X) #(None, Tx, n_a*2)\n",
    "\n",
    "    for t in range(Ty):\n",
    "\n",
    "        context = one_step_attention(a,s)\n",
    "        s, _, c = post_activation_LSTM(context, initial_state = [s,c])\n",
    "\n",
    "        out = output_layer(s)\n",
    "        outputs.append(out)\n",
    "\n",
    "    model = Model(inputs=[X,s0,c0], outputs = outputs)\n",
    "    return model"
   ]
  },
  {
   "cell_type": "code",
   "execution_count": null,
   "metadata": {},
   "outputs": [],
   "source": []
  },
  {
   "cell_type": "code",
   "execution_count": null,
   "metadata": {},
   "outputs": [
    {
     "name": "stderr",
     "output_type": "stream",
     "text": [
      "/usr/local/lib/python3.6/dist-packages/matplotlib/axes/_axes.py:7674: RuntimeWarning: divide by zero encountered in log10\n",
      "  Z = 10. * np.log10(spec)\n"
     ]
    },
    {
     "name": "stdout",
     "output_type": "stream",
     "text": [
      "(2, 156017, 101)\n",
      "(2, 1, 2)\n",
      "Epoch 1/100\n",
      "2/2 [==============================] - 439s 219s/step - loss: 0.9841 - acc: 0.0000e+00\n",
      "Epoch 2/100\n",
      "1/2 [==============>...............] - ETA: 2:31 - loss: 0.7870 - acc: 0.0000e+00"
     ]
    }
   ],
   "source": [
    "    S = 1000\n",
    "    Tx = get_Tx(\"./songs/\")\n",
    "    Ty = 1\n",
    "\n",
    "    _, n  = get_songs(\"./songs/\")\n",
    "    x,y = preprocessing_data(\"./songs/\", Tx, Ty)\n",
    "\n",
    "    n_a = 128\n",
    "    n_s = 256\n",
    "    n_x = 101\n",
    "    n_y = n\n",
    "\n",
    "    repeator = RepeatVector(Tx)\n",
    "    concatenator = Concatenate(axis=-1)\n",
    "    sliding = tf.contrib.data.sliding_window_batch(S)\n",
    "    densor1 = Dense(10, activation = \"tanh\")\n",
    "    densor2 = Dense(1, activation = \"relu\")\n",
    "    activator = Activation(K.softmax, name=\"attention_weights\")\n",
    "    dotor = Dot(axes= 1)\n",
    "\n",
    "    post_activation_LSTM = LSTM(n_s, return_state = True)\n",
    "    output_layer = Dense(n, activation=K.softmax)\n",
    "    print(x.shape)\n",
    "    print(y.shape)\n",
    "    outputs = list(y.swapaxes(0,1))\n",
    "\n",
    "    model = model(Tx, Ty, n_a, n_s, n_x, n_y)\n",
    "    model.compile(optimizer = Adam(lr=0.005, beta_1 = 0.9, beta_2 = 0.999, decay =0.1), metrics = ['accuracy'], loss = 'categorical_crossentropy')\n",
    "    s0 = np.zeros((n, n_s))\n",
    "    c0 = np.zeros((n, n_s))\n",
    "    model.fit([x, s0, c0], outputs, epochs = 100, batch_size = 1)\n"
   ]
  },
  {
   "cell_type": "code",
   "execution_count": null,
   "metadata": {},
   "outputs": [],
   "source": []
  },
  {
   "cell_type": "code",
   "execution_count": null,
   "metadata": {},
   "outputs": [],
   "source": []
  }
 ],
 "metadata": {
  "kernelspec": {
   "display_name": "Python 3",
   "language": "python",
   "name": "python3"
  },
  "language_info": {
   "codemirror_mode": {
    "name": "ipython",
    "version": 3
   },
   "file_extension": ".py",
   "mimetype": "text/x-python",
   "name": "python",
   "nbconvert_exporter": "python",
   "pygments_lexer": "ipython3",
   "version": "3.6.5"
  }
 },
 "nbformat": 4,
 "nbformat_minor": 2
}
